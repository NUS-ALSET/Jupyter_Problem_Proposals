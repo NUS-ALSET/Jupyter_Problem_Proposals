{
  "nbformat": 4,
  "nbformat_minor": 0,
  "metadata": {
    "colab": {
      "name": "Proposal2_EmailTemplate.ipynb",
      "version": "0.3.2",
      "provenance": [],
      "collapsed_sections": []
    },
    "kernelspec": {
      "name": "python3",
      "display_name": "Python 3"
    }
  },
  "cells": [
    {
      "cell_type": "markdown",
      "metadata": {
        "id": "view-in-github",
        "colab_type": "text"
      },
      "source": [
        "[View in Colaboratory](https://colab.research.google.com/github/NUS-ALSET/Jupyter_Problem_Proposals/blob/master/Proposal2/Proposal2_EmailTemplate.ipynb)"
      ]
    },
    {
      "metadata": {
        "id": "cZpc-cFyM6YL",
        "colab_type": "code",
        "colab": {
          "base_uri": "https://localhost:8080/",
          "height": 33
        },
        "outputId": "df2be980-2e9b-454e-a7f0-733a1644c6c2"
      },
      "cell_type": "code",
      "source": [
        "# Download the zip file at dataUrl and save it as data.zip. \n",
        "\n",
        "dataUrl = \"https://github.com/NUS-ALSET/Jupyter_Problem_Proposals/raw/master/Proposal2/data2.zip\"\n",
        "\n",
        "import os.path\n",
        "import requests \n",
        "\n",
        "\n",
        "def download_file(url, filename):\n",
        "# Check to see if file already exists\n",
        "  fileExists = os.path.isfile(filename) \n",
        "  \n",
        "  if not fileExists:\n",
        "    print(\"Downloading\", filename)\n",
        "\n",
        "    response = requests.get(url, stream=True)\n",
        "\n",
        "    # Throw an error for bad status codes\n",
        "    response.raise_for_status()\n",
        "\n",
        "    with open(filename, 'wb') as handle:\n",
        "      for block in response.iter_content(1024*256):  # Load 256KB at a time and provide feedback. \n",
        "          print('.', end='') # print without new line\n",
        "          handle.write(block)\n",
        "    print('\\n',filename, \"downloaded.\")\n",
        "  else:\n",
        "     print(filename, \"exists. Skipping download\")\n",
        "        \n",
        "download_file(dataUrl, \"data2.zip\")"
      ],
      "execution_count": 10,
      "outputs": [
        {
          "output_type": "stream",
          "text": [
            "data2.zip exists. Skipping download\n"
          ],
          "name": "stdout"
        }
      ]
    },
    {
      "metadata": {
        "id": "GE2fgFc2M6YS",
        "colab_type": "code",
        "colab": {
          "base_uri": "https://localhost:8080/",
          "height": 33
        },
        "outputId": "6c6623b8-8b33-4204-9a24-f72f7f5682dc"
      },
      "cell_type": "code",
      "source": [
        "# Unzip data.zip into the data folder. \n",
        "# Unzip all the zipfiles\n",
        "import zipfile\n",
        "import shutil\n",
        "\n",
        "# Delete any current data directory. \n",
        "dir = 'data2'\n",
        "if os.path.exists(dir):\n",
        "    shutil.rmtree(dir)\n",
        "os.makedirs(dir)\n",
        "\n",
        "def unzip_file(theFile):\n",
        "  path_to_zip_file = theFile\n",
        "  zip_ref = zipfile.ZipFile(path_to_zip_file, 'r')\n",
        "  zip_ref.extractall(\".\")\n",
        "  zip_ref.close()\n",
        "  \n",
        "for filename in [\"data2.zip\"]:\n",
        "  print(\"Unzipping\", filename)\n",
        "  unzip_file(filename)\n",
        "\n"
      ],
      "execution_count": 11,
      "outputs": [
        {
          "output_type": "stream",
          "text": [
            "Unzipping data2.zip\n"
          ],
          "name": "stdout"
        }
      ]
    },
    {
      "metadata": {
        "id": "iL-ia31JM6Yb",
        "colab_type": "code",
        "colab": {
          "base_uri": "https://localhost:8080/",
          "height": 33
        },
        "outputId": "a537b230-0dcc-435d-83e8-1108b6e04cf0"
      },
      "cell_type": "code",
      "source": [
        "# Save the list of problem directories to the problems list\n",
        "\n",
        "from os import walk\n",
        "\n",
        "directories = []\n",
        "for (dirpath, dirnames, filenames) in walk(\"data2/problems\"):\n",
        "    directories.extend(dirnames)\n",
        "    break\n",
        "\n",
        "problems = []\n",
        "for directory in directories: \n",
        "    if (directory[0] != \".\"):\n",
        "        problems.append(directory)\n",
        "\n",
        "print(problems)\n"
      ],
      "execution_count": 12,
      "outputs": [
        {
          "output_type": "stream",
          "text": [
            "['folder2', 'folder1']\n"
          ],
          "name": "stdout"
        }
      ]
    },
    {
      "metadata": {
        "id": "OiyIjBxLM6Ye",
        "colab_type": "code",
        "colab": {}
      },
      "cell_type": "code",
      "source": [
        "# For each problem, produce a solution. Copy the example_problem to the solution by default. \n",
        "import shutil\n",
        "\n",
        "# Call the overfit solver. \n",
        "# This will only work when example_solutions are present. \n",
        "# \n",
        "def solve(problem):\n",
        "    shutil.copytree(\"data2/example_solutions/\"+problem, \"data2/solutions/\"+problem)\n",
        "\n",
        "pass"
      ],
      "execution_count": 0,
      "outputs": []
    },
    {
      "metadata": {
        "id": "NV15Ftw3TPVw",
        "colab_type": "text"
      },
      "cell_type": "markdown",
      "source": [
        "# New Section"
      ]
    },
    {
      "metadata": {
        "id": "x9d5139_M6Yi",
        "colab_type": "code",
        "colab": {}
      },
      "cell_type": "code",
      "source": [
        "# Delete any existing solutions. \n",
        "dir = 'data2/solutions'\n",
        "if os.path.exists(dir):\n",
        "    shutil.rmtree(dir)\n",
        "os.makedirs(dir)\n",
        "\n",
        "\n",
        "# Call the new solve function for all available problems. \n",
        "for problem in problems: \n",
        "    solve(problem)"
      ],
      "execution_count": 0,
      "outputs": []
    },
    {
      "metadata": {
        "id": "AWW4QuWT1AC3",
        "colab_type": "code",
        "colab": {
          "base_uri": "https://localhost:8080/",
          "height": 33
        },
        "outputId": "252a7e1c-9191-4f34-d07a-58d6877dc380"
      },
      "cell_type": "code",
      "source": [
        "for problem in problems:\n",
        "  files_ = []\n",
        "  for (dirpath, dirnames, filenames) in walk(\"data2/example_solutions/\"+problem):\n",
        "      files_.extend(filenames)\n",
        "      break\n",
        "      \n",
        "print(files_)"
      ],
      "execution_count": 22,
      "outputs": [
        {
          "output_type": "stream",
          "text": [
            "['email2.txt', 'email3.txt', 'email1.txt']\n"
          ],
          "name": "stdout"
        }
      ]
    },
    {
      "metadata": {
        "id": "ZVv5SfEeQT5v",
        "colab_type": "code",
        "colab": {
          "base_uri": "https://localhost:8080/",
          "height": 212
        },
        "outputId": "d8649fc3-d6a3-4ca2-9160-ce81b3d82b2b"
      },
      "cell_type": "code",
      "source": [
        "# Test all available solutions. \n",
        "\n",
        "# Custom test code goes here. \n",
        "def test_case(problemDir):\n",
        "    \n",
        "    \"\"\"\n",
        "    problemFile = \"data/problems/\"+problemDir+\"/input.csv\"\n",
        "    problemText = open( problemFile, \"r\").read()\n",
        "    print(problemText) \n",
        "    \n",
        "    \"\"\"\n",
        "    for file in files_:\n",
        "      example_solutionFile = \"data2/example_solutions/\"+problemDir+\"/\"+file\n",
        "      example_solutionText = open( example_solutionFile, \"r\").read()\n",
        "      #print(example_solutionText) \n",
        "\n",
        "      solutionFile = \"data2/solutions/\"+problemDir+\"/\"+file\n",
        "      solutionText = open( solutionFile, \"r\").read()\n",
        "      #print(solutionText) \n",
        "\n",
        "      if( solutionText == example_solutionText ):\n",
        "          print(\"checking file\")\n",
        "          print(solutionFile)\n",
        "          continue\n",
        "      else:\n",
        "          return False\n",
        "    return True\n",
        "    \n",
        "# End customer test code. \n",
        "    \n",
        "for problem in problems: \n",
        "    result = test_case(problem)\n",
        "    if(result):\n",
        "        pass\n",
        "    else:\n",
        "        print(\"Invalid solution for problem \",problem)\n"
      ],
      "execution_count": 24,
      "outputs": [
        {
          "output_type": "stream",
          "text": [
            "checking file\n",
            "data2/solutions/folder2/email2.txt\n",
            "checking file\n",
            "data2/solutions/folder2/email3.txt\n",
            "checking file\n",
            "data2/solutions/folder2/email1.txt\n",
            "checking file\n",
            "data2/solutions/folder1/email2.txt\n",
            "checking file\n",
            "data2/solutions/folder1/email3.txt\n",
            "checking file\n",
            "data2/solutions/folder1/email1.txt\n"
          ],
          "name": "stdout"
        }
      ]
    }
  ]
}
