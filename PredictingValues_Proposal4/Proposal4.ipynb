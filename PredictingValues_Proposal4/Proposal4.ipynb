{
  "nbformat": 4,
  "nbformat_minor": 0,
  "metadata": {
    "colab": {
      "name": "Proposal4.ipynb",
      "version": "0.3.2",
      "provenance": [],
      "collapsed_sections": []
    },
    "kernelspec": {
      "name": "python3",
      "display_name": "Python 3"
    }
  },
  "cells": [
    {
      "cell_type": "markdown",
      "metadata": {
        "id": "view-in-github",
        "colab_type": "text"
      },
      "source": [
        "[View in Colaboratory](https://colab.research.google.com/github/apurvaasf/Jupyter_Problem_Proposals/blob/master/PredictingValues_Proposal4/Proposal4.ipynb)"
      ]
    },
    {
      "metadata": {
        "id": "cZpc-cFyM6YL",
        "colab_type": "code",
        "colab": {
          "base_uri": "https://localhost:8080/",
          "height": 66
        },
        "outputId": "9e44c505-4931-41e5-c43b-d0d8a19d854e"
      },
      "cell_type": "code",
      "source": [
        "# Download the zip file at dataUrl and save it as data3.zip. \n",
        "\n",
        "dataUrl = \"https://github.com/NUS-ALSET/Jupyter_Problem_Proposals/raw/master/PredictingValues_Proposal4/data3.zip\"\n",
        "\n",
        "import os.path\n",
        "\n",
        "\n",
        "def download_file(url, filename):\n",
        "# Check to see if file already exists\n",
        "  fileExists = os.path.isfile(filename) \n",
        "  \n",
        "  if not fileExists:\n",
        "    print(\"Downloading\", filename)\n",
        "\n",
        "    import requests \n",
        "    response = requests.get(url, stream=True)\n",
        "\n",
        "    # Throw an error for bad status codes\n",
        "    response.raise_for_status()\n",
        "\n",
        "    with open(filename, 'wb') as handle:\n",
        "      for block in response.iter_content(1024*256):  # Load 256KB at a time and provide feedback. \n",
        "          print('.', end='') # print without new line\n",
        "          handle.write(block)\n",
        "    print('\\n',filename, \"downloaded.\")\n",
        "  else:\n",
        "     print(filename, \"exists. Skipping download\")\n",
        "        \n",
        "download_file(dataUrl, \"data3.zip\")"
      ],
      "execution_count": 45,
      "outputs": [
        {
          "output_type": "stream",
          "text": [
            "Downloading data3.zip\n",
            ".\n",
            " data3.zip downloaded.\n"
          ],
          "name": "stdout"
        }
      ]
    },
    {
      "metadata": {
        "id": "GE2fgFc2M6YS",
        "colab_type": "code",
        "colab": {
          "base_uri": "https://localhost:8080/",
          "height": 33
        },
        "outputId": "fd6d1e09-00f4-438e-940f-e09283d9cdb8"
      },
      "cell_type": "code",
      "source": [
        "# Unzip data3.zip into the data folder. \n",
        "# Unzip all the zipfiles\n",
        "import zipfile\n",
        "import shutil\n",
        "\n",
        "# Delete any current data directory. \n",
        "dir = 'data3'\n",
        "if os.path.exists(dir):\n",
        "    shutil.rmtree(dir)\n",
        "os.makedirs(dir)\n",
        "\n",
        "def unzip_file(theFile):\n",
        "  path_to_zip_file = theFile\n",
        "  zip_ref = zipfile.ZipFile(path_to_zip_file, 'r')\n",
        "  zip_ref.extractall(\".\")\n",
        "  zip_ref.close()\n",
        "  \n",
        "for filename in [\"data3.zip\"]:\n",
        "  print(\"Unzipping\", filename)\n",
        "  unzip_file(filename)\n",
        "\n"
      ],
      "execution_count": 46,
      "outputs": [
        {
          "output_type": "stream",
          "text": [
            "Unzipping data3.zip\n"
          ],
          "name": "stdout"
        }
      ]
    },
    {
      "metadata": {
        "id": "2hie5CJg42lA",
        "colab_type": "code",
        "colab": {
          "base_uri": "https://localhost:8080/",
          "height": 33
        },
        "outputId": "0c828b3c-ffcb-47fe-985a-5833197b8ed8"
      },
      "cell_type": "code",
      "source": [
        "!ls"
      ],
      "execution_count": 47,
      "outputs": [
        {
          "output_type": "stream",
          "text": [
            "data3  data3.zip  datalab  __MACOSX\r\n"
          ],
          "name": "stdout"
        }
      ]
    },
    {
      "metadata": {
        "id": "iL-ia31JM6Yb",
        "colab_type": "code",
        "colab": {
          "base_uri": "https://localhost:8080/",
          "height": 33
        },
        "outputId": "ff42523e-0c0a-4d4d-de1e-7ec948edb06a"
      },
      "cell_type": "code",
      "source": [
        "# Save the list of problem directories to the problems list\n",
        "\n",
        "from os import walk\n",
        "\n",
        "directories = []\n",
        "for (dirpath, dirnames, filenames) in walk(\"data3/problems\"):\n",
        "    directories.extend(dirnames)\n",
        "    break\n",
        "\n",
        "problems = []\n",
        "for directory in directories: \n",
        "    if (directory[0] != \".\"):\n",
        "        problems.append(directory)\n",
        "\n",
        "print(problems)\n"
      ],
      "execution_count": 48,
      "outputs": [
        {
          "output_type": "stream",
          "text": [
            "['folder2', 'folder1']\n"
          ],
          "name": "stdout"
        }
      ]
    },
    {
      "metadata": {
        "id": "OiyIjBxLM6Ye",
        "colab_type": "code",
        "colab": {}
      },
      "cell_type": "code",
      "source": [
        "# For each problem, produce a solution. Copy the example_problem to the solution by default. \n",
        "import shutil\n",
        "\n",
        "# Call the overfit solver. \n",
        "# This will only work when example_solutions are present. \n",
        "# \n",
        "def solve(problem):\n",
        "    shutil.copytree(\"data3/example_solutions/\"+problem, \"data3/solutions/\"+problem)\n",
        "\n",
        "\n",
        "    \n",
        "    \n",
        "    \n",
        "    \n",
        "    \n",
        "# Non-overfit solution - NOT NEEDED FOR PROPOSALS\n",
        "\"\"\"\n",
        "\n",
        "def solve(problem):\n",
        "    problemFile = \"data3/problems/\"+problem+\"/input.csv\"\n",
        "    problemText = open( problemFile, \"r\").read()\n",
        "    print(problemText) \n",
        "    \n",
        "    # Get the numbers, add them together, save to solution directory. \n",
        "    inputs = problemText.split(\",\")\n",
        "    x = int(inputs[0])\n",
        "    y = int(inputs[1])\n",
        "    \n",
        "    result = x + y\n",
        "    \n",
        "    print(inputs, result)\n",
        "    \n",
        "    solutionFile = \"data3/solutions/\"+problem+\"/solution.csv\"\n",
        "    \n",
        "    dir = 'data3/solutions/'+problem\n",
        "    if os.path.exists(dir):\n",
        "        shutil.rmtree(dir)\n",
        "    os.makedirs(dir)\n",
        "    \n",
        "    with open(solutionFile, 'w') as out:\n",
        "        out.write(str(result))\n",
        "\n",
        "\"\"\"\n",
        "pass"
      ],
      "execution_count": 0,
      "outputs": []
    },
    {
      "metadata": {
        "id": "NV15Ftw3TPVw",
        "colab_type": "text"
      },
      "cell_type": "markdown",
      "source": [
        "# New Section"
      ]
    },
    {
      "metadata": {
        "id": "x9d5139_M6Yi",
        "colab_type": "code",
        "colab": {}
      },
      "cell_type": "code",
      "source": [
        "# Delete any existing solutions. \n",
        "dir = 'data3/solutions'\n",
        "if os.path.exists(dir):\n",
        "    shutil.rmtree(dir)\n",
        "os.makedirs(dir)\n",
        "\n",
        "\n",
        "# Call the new solve function for all available problems. \n",
        "for problem in problems: \n",
        "    solve(problem)"
      ],
      "execution_count": 0,
      "outputs": []
    },
    {
      "metadata": {
        "id": "oHjhahe1989r",
        "colab_type": "code",
        "colab": {
          "base_uri": "https://localhost:8080/",
          "height": 33
        },
        "outputId": "21c93b25-fab4-4f19-b16d-7f6927984638"
      },
      "cell_type": "code",
      "source": [
        "for problem in problems:\n",
        "  files_ = []\n",
        "  for (dirpath, dirnames, filenames) in walk(\"data3/example_solutions/\"+problem):\n",
        "      files_.extend(filenames)\n",
        "      break\n",
        "      \n",
        "print(files_)"
      ],
      "execution_count": 51,
      "outputs": [
        {
          "output_type": "stream",
          "text": [
            "['y_predict.csv']\n"
          ],
          "name": "stdout"
        }
      ]
    },
    {
      "metadata": {
        "id": "eFNli5VPM6Yl",
        "colab_type": "code",
        "colab": {
          "base_uri": "https://localhost:8080/",
          "height": 50
        },
        "outputId": "59870544-3855-4c5d-a325-6944e6ce2040"
      },
      "cell_type": "code",
      "source": [
        "# Test all available solutions. \n",
        "\n",
        "# Custom test code goes here. \n",
        "import pandas as pd\n",
        "def test_case(problemDir):\n",
        "    \n",
        "    \"\"\"\n",
        "    problemFile = \"data3/problems/\"+problemDir+\"/input.csv\"\n",
        "    problemText = open( problemFile, \"r\").read()\n",
        "    print(problemText) \n",
        "    \n",
        "    \"\"\"\n",
        "    \n",
        "    example_solutionFile = \"data3/example_solutions/\"+problemDir+\"/y_predict.csv\"\n",
        "    \n",
        "    example_solution_df = pd.read_csv(example_solutionFile)\n",
        "    \n",
        "    solutionFile = \"data3/solutions/\"+problemDir+\"/solution.csv\"\n",
        "    solution_df = pd.read_csv(example_solutionFile)\n",
        "    count=0\n",
        "    total=0\n",
        "    for index, rows in example_solution_df.iterrows():\n",
        "      if(example_solution_df.loc[index,\"petal_name\"]==solution_df.loc[index,\"petal_name\"]):\n",
        "        count+=1\n",
        "      total+=1\n",
        "    percentage_=(count/total)*100\n",
        "    return percentage_\n",
        "    \n",
        "# End customer test code. \n",
        "    \n",
        "for problem in problems: \n",
        "    result = test_case(problem)\n",
        "    print(\"percentage of values correctly predicted: \"+str(result)+\"%\")\n"
      ],
      "execution_count": 52,
      "outputs": [
        {
          "output_type": "stream",
          "text": [
            "percentage of values correctly predicted: 100.0%\n",
            "percentage of values correctly predicted: 100.0%\n"
          ],
          "name": "stdout"
        }
      ]
    }
  ]
}
